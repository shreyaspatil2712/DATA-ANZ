{
  "nbformat": 4,
  "nbformat_minor": 0,
  "metadata": {
    "colab": {
      "name": "Untitled0.ipynb",
      "provenance": []
    },
    "kernelspec": {
      "name": "python3",
      "display_name": "Python 3"
    },
    "language_info": {
      "name": "python"
    }
  },
  "cells": [
    {
      "cell_type": "code",
      "metadata": {
        "id": "bFLBVrffY6Oi"
      },
      "source": [
        "import pandas as pd\n",
        "import numpy as np\n",
        "import seaborn as sns\n",
        "import matplotlib.pyplot as plt\n",
        "from statistics import mode\n",
        "from sklearn.model_selection import train_test_split\n",
        "from sklearn.preprocessing import OneHotEncoder, StandardScaler\n",
        "from sklearn.linear_model import LinearRegression\n",
        "from sklearn.tree import DecisionTreeRegressor\n",
        "from sklearn.compose import make_column_transformer\n",
        "from sklearn.pipeline import make_pipeline\n",
        "from sklearn.metrics import mean_squared_error"
      ],
      "execution_count": 2,
      "outputs": []
    },
    {
      "cell_type": "code",
      "metadata": {
        "colab": {
          "base_uri": "https://localhost:8080/",
          "height": 475
        },
        "id": "r6NUwUUEpUKz",
        "outputId": "02129c22-353a-480c-ea9a-5f1ad68c3b99"
      },
      "source": [
        "data = pd.read_excel('/var/ANZ synthesised transaction dataset.xlsx')\n",
        "data.head()"
      ],
      "execution_count": 6,
      "outputs": [
        {
          "output_type": "execute_result",
          "data": {
            "text/html": [
              "<div>\n",
              "<style scoped>\n",
              "    .dataframe tbody tr th:only-of-type {\n",
              "        vertical-align: middle;\n",
              "    }\n",
              "\n",
              "    .dataframe tbody tr th {\n",
              "        vertical-align: top;\n",
              "    }\n",
              "\n",
              "    .dataframe thead th {\n",
              "        text-align: right;\n",
              "    }\n",
              "</style>\n",
              "<table border=\"1\" class=\"dataframe\">\n",
              "  <thead>\n",
              "    <tr style=\"text-align: right;\">\n",
              "      <th></th>\n",
              "      <th>status</th>\n",
              "      <th>card_present_flag</th>\n",
              "      <th>bpay_biller_code</th>\n",
              "      <th>account</th>\n",
              "      <th>currency</th>\n",
              "      <th>long_lat</th>\n",
              "      <th>txn_description</th>\n",
              "      <th>merchant_id</th>\n",
              "      <th>merchant_code</th>\n",
              "      <th>first_name</th>\n",
              "      <th>balance</th>\n",
              "      <th>date</th>\n",
              "      <th>gender</th>\n",
              "      <th>age</th>\n",
              "      <th>merchant_suburb</th>\n",
              "      <th>merchant_state</th>\n",
              "      <th>extraction</th>\n",
              "      <th>amount</th>\n",
              "      <th>transaction_id</th>\n",
              "      <th>country</th>\n",
              "      <th>customer_id</th>\n",
              "      <th>merchant_long_lat</th>\n",
              "      <th>movement</th>\n",
              "    </tr>\n",
              "  </thead>\n",
              "  <tbody>\n",
              "    <tr>\n",
              "      <th>0</th>\n",
              "      <td>authorized</td>\n",
              "      <td>1.0</td>\n",
              "      <td>NaN</td>\n",
              "      <td>ACC-1598451071</td>\n",
              "      <td>AUD</td>\n",
              "      <td>153.41 -27.95</td>\n",
              "      <td>POS</td>\n",
              "      <td>81c48296-73be-44a7-befa-d053f48ce7cd</td>\n",
              "      <td>NaN</td>\n",
              "      <td>Diana</td>\n",
              "      <td>35.39</td>\n",
              "      <td>2018-08-01</td>\n",
              "      <td>F</td>\n",
              "      <td>26</td>\n",
              "      <td>Ashmore</td>\n",
              "      <td>QLD</td>\n",
              "      <td>2018-08-01T01:01:15.000+0000</td>\n",
              "      <td>16.25</td>\n",
              "      <td>a623070bfead4541a6b0fff8a09e706c</td>\n",
              "      <td>Australia</td>\n",
              "      <td>CUS-2487424745</td>\n",
              "      <td>153.38 -27.99</td>\n",
              "      <td>debit</td>\n",
              "    </tr>\n",
              "    <tr>\n",
              "      <th>1</th>\n",
              "      <td>authorized</td>\n",
              "      <td>0.0</td>\n",
              "      <td>NaN</td>\n",
              "      <td>ACC-1598451071</td>\n",
              "      <td>AUD</td>\n",
              "      <td>153.41 -27.95</td>\n",
              "      <td>SALES-POS</td>\n",
              "      <td>830a451c-316e-4a6a-bf25-e37caedca49e</td>\n",
              "      <td>NaN</td>\n",
              "      <td>Diana</td>\n",
              "      <td>21.20</td>\n",
              "      <td>2018-08-01</td>\n",
              "      <td>F</td>\n",
              "      <td>26</td>\n",
              "      <td>Sydney</td>\n",
              "      <td>NSW</td>\n",
              "      <td>2018-08-01T01:13:45.000+0000</td>\n",
              "      <td>14.19</td>\n",
              "      <td>13270a2a902145da9db4c951e04b51b9</td>\n",
              "      <td>Australia</td>\n",
              "      <td>CUS-2487424745</td>\n",
              "      <td>151.21 -33.87</td>\n",
              "      <td>debit</td>\n",
              "    </tr>\n",
              "    <tr>\n",
              "      <th>2</th>\n",
              "      <td>authorized</td>\n",
              "      <td>1.0</td>\n",
              "      <td>NaN</td>\n",
              "      <td>ACC-1222300524</td>\n",
              "      <td>AUD</td>\n",
              "      <td>151.23 -33.94</td>\n",
              "      <td>POS</td>\n",
              "      <td>835c231d-8cdf-4e96-859d-e9d571760cf0</td>\n",
              "      <td>NaN</td>\n",
              "      <td>Michael</td>\n",
              "      <td>5.71</td>\n",
              "      <td>2018-08-01</td>\n",
              "      <td>M</td>\n",
              "      <td>38</td>\n",
              "      <td>Sydney</td>\n",
              "      <td>NSW</td>\n",
              "      <td>2018-08-01T01:26:15.000+0000</td>\n",
              "      <td>6.42</td>\n",
              "      <td>feb79e7ecd7048a5a36ec889d1a94270</td>\n",
              "      <td>Australia</td>\n",
              "      <td>CUS-2142601169</td>\n",
              "      <td>151.21 -33.87</td>\n",
              "      <td>debit</td>\n",
              "    </tr>\n",
              "    <tr>\n",
              "      <th>3</th>\n",
              "      <td>authorized</td>\n",
              "      <td>1.0</td>\n",
              "      <td>NaN</td>\n",
              "      <td>ACC-1037050564</td>\n",
              "      <td>AUD</td>\n",
              "      <td>153.10 -27.66</td>\n",
              "      <td>SALES-POS</td>\n",
              "      <td>48514682-c78a-4a88-b0da-2d6302e64673</td>\n",
              "      <td>NaN</td>\n",
              "      <td>Rhonda</td>\n",
              "      <td>2117.22</td>\n",
              "      <td>2018-08-01</td>\n",
              "      <td>F</td>\n",
              "      <td>40</td>\n",
              "      <td>Buderim</td>\n",
              "      <td>QLD</td>\n",
              "      <td>2018-08-01T01:38:45.000+0000</td>\n",
              "      <td>40.90</td>\n",
              "      <td>2698170da3704fd981b15e64a006079e</td>\n",
              "      <td>Australia</td>\n",
              "      <td>CUS-1614226872</td>\n",
              "      <td>153.05 -26.68</td>\n",
              "      <td>debit</td>\n",
              "    </tr>\n",
              "    <tr>\n",
              "      <th>4</th>\n",
              "      <td>authorized</td>\n",
              "      <td>1.0</td>\n",
              "      <td>NaN</td>\n",
              "      <td>ACC-1598451071</td>\n",
              "      <td>AUD</td>\n",
              "      <td>153.41 -27.95</td>\n",
              "      <td>SALES-POS</td>\n",
              "      <td>b4e02c10-0852-4273-b8fd-7b3395e32eb0</td>\n",
              "      <td>NaN</td>\n",
              "      <td>Diana</td>\n",
              "      <td>17.95</td>\n",
              "      <td>2018-08-01</td>\n",
              "      <td>F</td>\n",
              "      <td>26</td>\n",
              "      <td>Mermaid Beach</td>\n",
              "      <td>QLD</td>\n",
              "      <td>2018-08-01T01:51:15.000+0000</td>\n",
              "      <td>3.25</td>\n",
              "      <td>329adf79878c4cf0aeb4188b4691c266</td>\n",
              "      <td>Australia</td>\n",
              "      <td>CUS-2487424745</td>\n",
              "      <td>153.44 -28.06</td>\n",
              "      <td>debit</td>\n",
              "    </tr>\n",
              "  </tbody>\n",
              "</table>\n",
              "</div>"
            ],
            "text/plain": [
              "       status  card_present_flag  ... merchant_long_lat movement\n",
              "0  authorized                1.0  ...     153.38 -27.99    debit\n",
              "1  authorized                0.0  ...     151.21 -33.87    debit\n",
              "2  authorized                1.0  ...     151.21 -33.87    debit\n",
              "3  authorized                1.0  ...     153.05 -26.68    debit\n",
              "4  authorized                1.0  ...     153.44 -28.06    debit\n",
              "\n",
              "[5 rows x 23 columns]"
            ]
          },
          "metadata": {
            "tags": []
          },
          "execution_count": 6
        }
      ]
    },
    {
      "cell_type": "code",
      "metadata": {
        "colab": {
          "base_uri": "https://localhost:8080/",
          "height": 203
        },
        "id": "h5DxjpySpe94",
        "outputId": "9de85f3e-d2f4-4b8f-a76c-2d5420cce663"
      },
      "source": [
        "salary_df = pd.DataFrame({\"customer_id\": data.customer_id.unique()})\n",
        "salary_df.head()"
      ],
      "execution_count": 7,
      "outputs": [
        {
          "output_type": "execute_result",
          "data": {
            "text/html": [
              "<div>\n",
              "<style scoped>\n",
              "    .dataframe tbody tr th:only-of-type {\n",
              "        vertical-align: middle;\n",
              "    }\n",
              "\n",
              "    .dataframe tbody tr th {\n",
              "        vertical-align: top;\n",
              "    }\n",
              "\n",
              "    .dataframe thead th {\n",
              "        text-align: right;\n",
              "    }\n",
              "</style>\n",
              "<table border=\"1\" class=\"dataframe\">\n",
              "  <thead>\n",
              "    <tr style=\"text-align: right;\">\n",
              "      <th></th>\n",
              "      <th>customer_id</th>\n",
              "    </tr>\n",
              "  </thead>\n",
              "  <tbody>\n",
              "    <tr>\n",
              "      <th>0</th>\n",
              "      <td>CUS-2487424745</td>\n",
              "    </tr>\n",
              "    <tr>\n",
              "      <th>1</th>\n",
              "      <td>CUS-2142601169</td>\n",
              "    </tr>\n",
              "    <tr>\n",
              "      <th>2</th>\n",
              "      <td>CUS-1614226872</td>\n",
              "    </tr>\n",
              "    <tr>\n",
              "      <th>3</th>\n",
              "      <td>CUS-2688605418</td>\n",
              "    </tr>\n",
              "    <tr>\n",
              "      <th>4</th>\n",
              "      <td>CUS-4123612273</td>\n",
              "    </tr>\n",
              "  </tbody>\n",
              "</table>\n",
              "</div>"
            ],
            "text/plain": [
              "      customer_id\n",
              "0  CUS-2487424745\n",
              "1  CUS-2142601169\n",
              "2  CUS-1614226872\n",
              "3  CUS-2688605418\n",
              "4  CUS-4123612273"
            ]
          },
          "metadata": {
            "tags": []
          },
          "execution_count": 7
        }
      ]
    },
    {
      "cell_type": "code",
      "metadata": {
        "colab": {
          "base_uri": "https://localhost:8080/",
          "height": 203
        },
        "id": "xNOuaojIq3fe",
        "outputId": "db821900-bcaf-4f8f-8e70-a646d5fe1727"
      },
      "source": [
        "df_freq = []\n",
        "df_amount = []\n",
        "\n",
        "for customer in range(len(salary_df)):\n",
        "    salary = data.loc[(data.customer_id == salary_df.customer_id[customer]) & (data.txn_description == \"PAY/SALARY\"), [\"date\", \"amount\"]].groupby(\"date\", as_index = False).sum()\n",
        "    count = len(salary)\n",
        "    if count == 0:\n",
        "        df_amount.append(np.nan)\n",
        "        df_freq.append(np.nan)\n",
        "    else:\n",
        "        days_between_payments = []\n",
        "        for date in range(len(salary)-1):\n",
        "            days_between_payments.append((salary.date[date + 1] - salary.date[date]).days)\n",
        "        df_freq.append(max(days_between_payments))\n",
        "        df_amount.append(mode(salary.amount))\n",
        "\n",
        "salary_df[\"salary_freq\"] = df_freq\n",
        "salary_df[\"salary_amount\"] = df_amount       \n",
        "salary_df[\"annual_salary\"] = salary_df[\"salary_amount\"] / salary_df[\"salary_freq\"] * 365.25\n",
        "salary_df.head()"
      ],
      "execution_count": 8,
      "outputs": [
        {
          "output_type": "execute_result",
          "data": {
            "text/html": [
              "<div>\n",
              "<style scoped>\n",
              "    .dataframe tbody tr th:only-of-type {\n",
              "        vertical-align: middle;\n",
              "    }\n",
              "\n",
              "    .dataframe tbody tr th {\n",
              "        vertical-align: top;\n",
              "    }\n",
              "\n",
              "    .dataframe thead th {\n",
              "        text-align: right;\n",
              "    }\n",
              "</style>\n",
              "<table border=\"1\" class=\"dataframe\">\n",
              "  <thead>\n",
              "    <tr style=\"text-align: right;\">\n",
              "      <th></th>\n",
              "      <th>customer_id</th>\n",
              "      <th>salary_freq</th>\n",
              "      <th>salary_amount</th>\n",
              "      <th>annual_salary</th>\n",
              "    </tr>\n",
              "  </thead>\n",
              "  <tbody>\n",
              "    <tr>\n",
              "      <th>0</th>\n",
              "      <td>CUS-2487424745</td>\n",
              "      <td>7</td>\n",
              "      <td>1013.67</td>\n",
              "      <td>52891.852500</td>\n",
              "    </tr>\n",
              "    <tr>\n",
              "      <th>1</th>\n",
              "      <td>CUS-2142601169</td>\n",
              "      <td>7</td>\n",
              "      <td>1002.13</td>\n",
              "      <td>52289.711786</td>\n",
              "    </tr>\n",
              "    <tr>\n",
              "      <th>2</th>\n",
              "      <td>CUS-1614226872</td>\n",
              "      <td>7</td>\n",
              "      <td>892.09</td>\n",
              "      <td>46547.981786</td>\n",
              "    </tr>\n",
              "    <tr>\n",
              "      <th>3</th>\n",
              "      <td>CUS-2688605418</td>\n",
              "      <td>14</td>\n",
              "      <td>2320.30</td>\n",
              "      <td>60534.969643</td>\n",
              "    </tr>\n",
              "    <tr>\n",
              "      <th>4</th>\n",
              "      <td>CUS-4123612273</td>\n",
              "      <td>7</td>\n",
              "      <td>1068.04</td>\n",
              "      <td>55728.801429</td>\n",
              "    </tr>\n",
              "  </tbody>\n",
              "</table>\n",
              "</div>"
            ],
            "text/plain": [
              "      customer_id  salary_freq  salary_amount  annual_salary\n",
              "0  CUS-2487424745            7        1013.67   52891.852500\n",
              "1  CUS-2142601169            7        1002.13   52289.711786\n",
              "2  CUS-1614226872            7         892.09   46547.981786\n",
              "3  CUS-2688605418           14        2320.30   60534.969643\n",
              "4  CUS-4123612273            7        1068.04   55728.801429"
            ]
          },
          "metadata": {
            "tags": []
          },
          "execution_count": 8
        }
      ]
    },
    {
      "cell_type": "code",
      "metadata": {
        "colab": {
          "base_uri": "https://localhost:8080/",
          "height": 421
        },
        "id": "ItbTKrpbq6b8",
        "outputId": "407a7457-448d-455c-b6bf-77a583147969"
      },
      "source": [
        "plt.figure(figsize = (10, 5))\n",
        "sns.distplot(salary_df.annual_salary)\n",
        "plt.title(\"Distribution of customers' annual salary\")\n",
        "plt.xlabel(\"Annual salary\")"
      ],
      "execution_count": 9,
      "outputs": [
        {
          "output_type": "stream",
          "text": [
            "/usr/local/lib/python3.7/dist-packages/seaborn/distributions.py:2557: FutureWarning: `distplot` is a deprecated function and will be removed in a future version. Please adapt your code to use either `displot` (a figure-level function with similar flexibility) or `histplot` (an axes-level function for histograms).\n",
            "  warnings.warn(msg, FutureWarning)\n"
          ],
          "name": "stderr"
        },
        {
          "output_type": "execute_result",
          "data": {
            "text/plain": [
              "Text(0.5, 0, 'Annual salary')"
            ]
          },
          "metadata": {
            "tags": []
          },
          "execution_count": 9
        },
        {
          "output_type": "display_data",
          "data": {
            "image/png": "[encoded data removed]",
            "text/plain": [
              "<Figure size 720x360 with 1 Axes>"
            ]
          },
          "metadata": {
            "tags": [],
            "needs_background": "light"
          }
        }
      ]
    },
    {
      "cell_type": "code",
      "metadata": {
        "colab": {
          "base_uri": "https://localhost:8080/"
        },
        "id": "_a3_mz-3q87l",
        "outputId": "29978cc1-295a-4bfc-912f-879b60af7df5"
      },
      "source": [
        "## creating variables for prediction\n",
        "# Unique customer id's \n",
        "unique_id = data.customer_id.unique()\n",
        "len(unique_id)"
      ],
      "execution_count": 11,
      "outputs": [
        {
          "output_type": "execute_result",
          "data": {
            "text/plain": [
              "100"
            ]
          },
          "metadata": {
            "tags": []
          },
          "execution_count": 11
        }
      ]
    },
    {
      "cell_type": "code",
      "metadata": {
        "colab": {
          "base_uri": "https://localhost:8080/"
        },
        "id": "BefzmIWTrGlR",
        "outputId": "4dde8345-db5a-4eb1-a3aa-090d926393e5"
      },
      "source": [
        "\n",
        "avg_no_weekly_trans = []\n",
        "for id_ in unique_id:\n",
        "    array = data.loc[data.customer_id == id_, \"date\"]\n",
        "    avg_no_weekly_trans.append(round(len(array)/array.nunique()*7))\n",
        "avg_no_weekly_trans[:5]"
      ],
      "execution_count": 12,
      "outputs": [
        {
          "output_type": "execute_result",
          "data": {
            "text/plain": [
              "[48, 29, 24, 14, 21]"
            ]
          },
          "metadata": {
            "tags": []
          },
          "execution_count": 12
        }
      ]
    },
    {
      "cell_type": "code",
      "metadata": {
        "colab": {
          "base_uri": "https://localhost:8080/"
        },
        "id": "qlTqMOJorUU1",
        "outputId": "2253e755-e7f0-4164-dfb2-28b176b2f67f"
      },
      "source": [
        "max_amount = []\n",
        "for id_ in unique_id:\n",
        "    array = data.loc[data.customer_id == id_, \"amount\"]\n",
        "    max_amount.append(max(array))\n",
        "max_amount[:5]"
      ],
      "execution_count": 13,
      "outputs": [
        {
          "output_type": "execute_result",
          "data": {
            "text/plain": [
              "[1452.21, 2349.55, 892.09, 2320.3, 1068.04]"
            ]
          },
          "metadata": {
            "tags": []
          },
          "execution_count": 13
        }
      ]
    },
    {
      "cell_type": "code",
      "metadata": {
        "colab": {
          "base_uri": "https://localhost:8080/"
        },
        "id": "ZzHpO-exrXMU",
        "outputId": "f3205db9-d5d5-48a8-d749-1089c47c802d"
      },
      "source": [
        "\n",
        "no_large_trans = []\n",
        "for id_ in unique_id:\n",
        "    count = 0\n",
        "    array = data.loc[data.customer_id == id_, \"amount\"]\n",
        "    for amount in array:\n",
        "        if amount > 100:\n",
        "            count += 1\n",
        "    no_large_trans.append(count)\n",
        "no_large_trans[:5]"
      ],
      "execution_count": 14,
      "outputs": [
        {
          "output_type": "execute_result",
          "data": {
            "text/plain": [
              "[22, 23, 22, 25, 32]"
            ]
          },
          "metadata": {
            "tags": []
          },
          "execution_count": 14
        }
      ]
    },
    {
      "cell_type": "code",
      "metadata": {
        "colab": {
          "base_uri": "https://localhost:8080/"
        },
        "id": "rdd1J2L8rZIh",
        "outputId": "c7d3bf24-7477-4ec0-bb8c-74eb677c4ae7"
      },
      "source": [
        "\n",
        "no_days_with_trans = []\n",
        "for id_ in unique_id:\n",
        "    array = data.loc[data.customer_id == id_, \"date\"]\n",
        "    no_days_with_trans.append(array.nunique())\n",
        "no_days_with_trans[:5]"
      ],
      "execution_count": 15,
      "outputs": [
        {
          "output_type": "execute_result",
          "data": {
            "text/plain": [
              "[85, 74, 76, 63, 44]"
            ]
          },
          "metadata": {
            "tags": []
          },
          "execution_count": 15
        }
      ]
    },
    {
      "cell_type": "code",
      "metadata": {
        "colab": {
          "base_uri": "https://localhost:8080/"
        },
        "id": "HKopd-jbra_t",
        "outputId": "11865627-2af9-49ee-f332-21fd4df028ce"
      },
      "source": [
        "avg_trans_amount = []\n",
        "for id_ in unique_id:\n",
        "    array = data.loc[data.customer_id == id_, \"amount\"]\n",
        "    avg_trans_amount.append(array.mean())\n",
        "avg_trans_amount[:5]"
      ],
      "execution_count": 16,
      "outputs": [
        {
          "output_type": "execute_result",
          "data": {
            "text/plain": [
              "[45.34877162629756,\n",
              " 78.20610561056101,\n",
              " 74.46501930501928,\n",
              " 159.3041860465116,\n",
              " 166.50835820895517]"
            ]
          },
          "metadata": {
            "tags": []
          },
          "execution_count": 16
        }
      ]
    },
    {
      "cell_type": "code",
      "metadata": {
        "colab": {
          "base_uri": "https://localhost:8080/"
        },
        "id": "7turFtiCrdS3",
        "outputId": "0ac83350-f9b2-415a-edff-384ec3874aac"
      },
      "source": [
        "median_balance = []\n",
        "for id_ in unique_id:\n",
        "    array = data.loc[data.customer_id == id_, \"balance\"]\n",
        "    median_balance.append(array.median())\n",
        "median_balance[:5]"
      ],
      "execution_count": 17,
      "outputs": [
        {
          "output_type": "execute_result",
          "data": {
            "text/plain": [
              "[1580.4, 1132.66, 3618.5, 5616.63, 6162.45]"
            ]
          },
          "metadata": {
            "tags": []
          },
          "execution_count": 17
        }
      ]
    },
    {
      "cell_type": "code",
      "metadata": {
        "colab": {
          "base_uri": "https://localhost:8080/"
        },
        "id": "Khm0p9XarhUC",
        "outputId": "434570e7-f465-4d81-9104-e498c7142d70"
      },
      "source": [
        "# Assume customers live in the state where most of their transactions occured\n",
        "state = []\n",
        "for id_ in unique_id:\n",
        "    array = data.loc[data.customer_id == id_, \"merchant_state\"]\n",
        "    state.append(mode(array))\n",
        "state[:5]"
      ],
      "execution_count": 18,
      "outputs": [
        {
          "output_type": "execute_result",
          "data": {
            "text/plain": [
              "['QLD', 'NSW', 'QLD', 'NSW', 'VIC']"
            ]
          },
          "metadata": {
            "tags": []
          },
          "execution_count": 18
        }
      ]
    },
    {
      "cell_type": "code",
      "metadata": {
        "colab": {
          "base_uri": "https://localhost:8080/"
        },
        "id": "HJlhHCitrjxF",
        "outputId": "928b9179-8e65-44dc-b9ea-fa3d928106d9"
      },
      "source": [
        "age = []\n",
        "for id_ in unique_id:\n",
        "    array = data.loc[data.customer_id == id_, \"age\"]\n",
        "    age.append(mode(array))\n",
        "age[:5]"
      ],
      "execution_count": 19,
      "outputs": [
        {
          "output_type": "execute_result",
          "data": {
            "text/plain": [
              "[26, 38, 40, 20, 43]"
            ]
          },
          "metadata": {
            "tags": []
          },
          "execution_count": 19
        }
      ]
    },
    {
      "cell_type": "code",
      "metadata": {
        "colab": {
          "base_uri": "https://localhost:8080/"
        },
        "id": "BoMeTpzvrmFq",
        "outputId": "2ebf2897-b77a-451c-8656-2d01e5040771"
      },
      "source": [
        "\n",
        "gender = []\n",
        "for id_ in unique_id:\n",
        "    array = data.loc[data.customer_id == id_, \"gender\"]\n",
        "    gender.append(mode(array))\n",
        "gender[:5]"
      ],
      "execution_count": 20,
      "outputs": [
        {
          "output_type": "execute_result",
          "data": {
            "text/plain": [
              "['F', 'M', 'F', 'M', 'F']"
            ]
          },
          "metadata": {
            "tags": []
          },
          "execution_count": 20
        }
      ]
    },
    {
      "cell_type": "code",
      "metadata": {
        "colab": {
          "base_uri": "https://localhost:8080/",
          "height": 203
        },
        "id": "mNQ4ZGyGrnzh",
        "outputId": "1834f23a-9b07-4722-8b62-81f007307a2f"
      },
      "source": [
        "# Predictor variables \n",
        "features_df = pd.DataFrame({\"customer_id\": unique_id, \n",
        "                            \"avg_no_weekly_trans\": avg_no_weekly_trans, \n",
        "                            \"max_amount\": max_amount, \n",
        "                            \"no_large_trans\": no_large_trans,\n",
        "                            \"avg_trans_amount\": avg_trans_amount,\n",
        "                            \"median_balance\": median_balance, \n",
        "                            \"state\": state,\n",
        "                            \"age\": age,\n",
        "                            \"gender\": gender})\n",
        "features_df.head()"
      ],
      "execution_count": 21,
      "outputs": [
        {
          "output_type": "execute_result",
          "data": {
            "text/html": [
              "<div>\n",
              "<style scoped>\n",
              "    .dataframe tbody tr th:only-of-type {\n",
              "        vertical-align: middle;\n",
              "    }\n",
              "\n",
              "    .dataframe tbody tr th {\n",
              "        vertical-align: top;\n",
              "    }\n",
              "\n",
              "    .dataframe thead th {\n",
              "        text-align: right;\n",
              "    }\n",
              "</style>\n",
              "<table border=\"1\" class=\"dataframe\">\n",
              "  <thead>\n",
              "    <tr style=\"text-align: right;\">\n",
              "      <th></th>\n",
              "      <th>customer_id</th>\n",
              "      <th>avg_no_weekly_trans</th>\n",
              "      <th>max_amount</th>\n",
              "      <th>no_large_trans</th>\n",
              "      <th>avg_trans_amount</th>\n",
              "      <th>median_balance</th>\n",
              "      <th>state</th>\n",
              "      <th>age</th>\n",
              "      <th>gender</th>\n",
              "    </tr>\n",
              "  </thead>\n",
              "  <tbody>\n",
              "    <tr>\n",
              "      <th>0</th>\n",
              "      <td>CUS-2487424745</td>\n",
              "      <td>48</td>\n",
              "      <td>1452.21</td>\n",
              "      <td>22</td>\n",
              "      <td>45.348772</td>\n",
              "      <td>1580.40</td>\n",
              "      <td>QLD</td>\n",
              "      <td>26</td>\n",
              "      <td>F</td>\n",
              "    </tr>\n",
              "    <tr>\n",
              "      <th>1</th>\n",
              "      <td>CUS-2142601169</td>\n",
              "      <td>29</td>\n",
              "      <td>2349.55</td>\n",
              "      <td>23</td>\n",
              "      <td>78.206106</td>\n",
              "      <td>1132.66</td>\n",
              "      <td>NSW</td>\n",
              "      <td>38</td>\n",
              "      <td>M</td>\n",
              "    </tr>\n",
              "    <tr>\n",
              "      <th>2</th>\n",
              "      <td>CUS-1614226872</td>\n",
              "      <td>24</td>\n",
              "      <td>892.09</td>\n",
              "      <td>22</td>\n",
              "      <td>74.465019</td>\n",
              "      <td>3618.50</td>\n",
              "      <td>QLD</td>\n",
              "      <td>40</td>\n",
              "      <td>F</td>\n",
              "    </tr>\n",
              "    <tr>\n",
              "      <th>3</th>\n",
              "      <td>CUS-2688605418</td>\n",
              "      <td>14</td>\n",
              "      <td>2320.30</td>\n",
              "      <td>25</td>\n",
              "      <td>159.304186</td>\n",
              "      <td>5616.63</td>\n",
              "      <td>NSW</td>\n",
              "      <td>20</td>\n",
              "      <td>M</td>\n",
              "    </tr>\n",
              "    <tr>\n",
              "      <th>4</th>\n",
              "      <td>CUS-4123612273</td>\n",
              "      <td>21</td>\n",
              "      <td>1068.04</td>\n",
              "      <td>32</td>\n",
              "      <td>166.508358</td>\n",
              "      <td>6162.45</td>\n",
              "      <td>VIC</td>\n",
              "      <td>43</td>\n",
              "      <td>F</td>\n",
              "    </tr>\n",
              "  </tbody>\n",
              "</table>\n",
              "</div>"
            ],
            "text/plain": [
              "      customer_id  avg_no_weekly_trans  max_amount  ...  state  age  gender\n",
              "0  CUS-2487424745                   48     1452.21  ...    QLD   26       F\n",
              "1  CUS-2142601169                   29     2349.55  ...    NSW   38       M\n",
              "2  CUS-1614226872                   24      892.09  ...    QLD   40       F\n",
              "3  CUS-2688605418                   14     2320.30  ...    NSW   20       M\n",
              "4  CUS-4123612273                   21     1068.04  ...    VIC   43       F\n",
              "\n",
              "[5 rows x 9 columns]"
            ]
          },
          "metadata": {
            "tags": []
          },
          "execution_count": 21
        }
      ]
    },
    {
      "cell_type": "code",
      "metadata": {
        "colab": {
          "base_uri": "https://localhost:8080/",
          "height": 203
        },
        "id": "b4fT-x9OrqKL",
        "outputId": "d13cea7b-2298-4926-884a-140d87b4c2da"
      },
      "source": [
        "salary_df.head()"
      ],
      "execution_count": 22,
      "outputs": [
        {
          "output_type": "execute_result",
          "data": {
            "text/html": [
              "<div>\n",
              "<style scoped>\n",
              "    .dataframe tbody tr th:only-of-type {\n",
              "        vertical-align: middle;\n",
              "    }\n",
              "\n",
              "    .dataframe tbody tr th {\n",
              "        vertical-align: top;\n",
              "    }\n",
              "\n",
              "    .dataframe thead th {\n",
              "        text-align: right;\n",
              "    }\n",
              "</style>\n",
              "<table border=\"1\" class=\"dataframe\">\n",
              "  <thead>\n",
              "    <tr style=\"text-align: right;\">\n",
              "      <th></th>\n",
              "      <th>customer_id</th>\n",
              "      <th>salary_freq</th>\n",
              "      <th>salary_amount</th>\n",
              "      <th>annual_salary</th>\n",
              "    </tr>\n",
              "  </thead>\n",
              "  <tbody>\n",
              "    <tr>\n",
              "      <th>0</th>\n",
              "      <td>CUS-2487424745</td>\n",
              "      <td>7</td>\n",
              "      <td>1013.67</td>\n",
              "      <td>52891.852500</td>\n",
              "    </tr>\n",
              "    <tr>\n",
              "      <th>1</th>\n",
              "      <td>CUS-2142601169</td>\n",
              "      <td>7</td>\n",
              "      <td>1002.13</td>\n",
              "      <td>52289.711786</td>\n",
              "    </tr>\n",
              "    <tr>\n",
              "      <th>2</th>\n",
              "      <td>CUS-1614226872</td>\n",
              "      <td>7</td>\n",
              "      <td>892.09</td>\n",
              "      <td>46547.981786</td>\n",
              "    </tr>\n",
              "    <tr>\n",
              "      <th>3</th>\n",
              "      <td>CUS-2688605418</td>\n",
              "      <td>14</td>\n",
              "      <td>2320.30</td>\n",
              "      <td>60534.969643</td>\n",
              "    </tr>\n",
              "    <tr>\n",
              "      <th>4</th>\n",
              "      <td>CUS-4123612273</td>\n",
              "      <td>7</td>\n",
              "      <td>1068.04</td>\n",
              "      <td>55728.801429</td>\n",
              "    </tr>\n",
              "  </tbody>\n",
              "</table>\n",
              "</div>"
            ],
            "text/plain": [
              "      customer_id  salary_freq  salary_amount  annual_salary\n",
              "0  CUS-2487424745            7        1013.67   52891.852500\n",
              "1  CUS-2142601169            7        1002.13   52289.711786\n",
              "2  CUS-1614226872            7         892.09   46547.981786\n",
              "3  CUS-2688605418           14        2320.30   60534.969643\n",
              "4  CUS-4123612273            7        1068.04   55728.801429"
            ]
          },
          "metadata": {
            "tags": []
          },
          "execution_count": 22
        }
      ]
    },
    {
      "cell_type": "code",
      "metadata": {
        "colab": {
          "base_uri": "https://localhost:8080/",
          "height": 203
        },
        "id": "v1R-eqY2rsLd",
        "outputId": "33c8f344-897b-43c0-8392-2da4a16064fc"
      },
      "source": [
        "df = pd.concat([features_df, salary_df.annual_salary], axis = 1)\n",
        "df.head()"
      ],
      "execution_count": 23,
      "outputs": [
        {
          "output_type": "execute_result",
          "data": {
            "text/html": [
              "<div>\n",
              "<style scoped>\n",
              "    .dataframe tbody tr th:only-of-type {\n",
              "        vertical-align: middle;\n",
              "    }\n",
              "\n",
              "    .dataframe tbody tr th {\n",
              "        vertical-align: top;\n",
              "    }\n",
              "\n",
              "    .dataframe thead th {\n",
              "        text-align: right;\n",
              "    }\n",
              "</style>\n",
              "<table border=\"1\" class=\"dataframe\">\n",
              "  <thead>\n",
              "    <tr style=\"text-align: right;\">\n",
              "      <th></th>\n",
              "      <th>customer_id</th>\n",
              "      <th>avg_no_weekly_trans</th>\n",
              "      <th>max_amount</th>\n",
              "      <th>no_large_trans</th>\n",
              "      <th>avg_trans_amount</th>\n",
              "      <th>median_balance</th>\n",
              "      <th>state</th>\n",
              "      <th>age</th>\n",
              "      <th>gender</th>\n",
              "      <th>annual_salary</th>\n",
              "    </tr>\n",
              "  </thead>\n",
              "  <tbody>\n",
              "    <tr>\n",
              "      <th>0</th>\n",
              "      <td>CUS-2487424745</td>\n",
              "      <td>48</td>\n",
              "      <td>1452.21</td>\n",
              "      <td>22</td>\n",
              "      <td>45.348772</td>\n",
              "      <td>1580.40</td>\n",
              "      <td>QLD</td>\n",
              "      <td>26</td>\n",
              "      <td>F</td>\n",
              "      <td>52891.852500</td>\n",
              "    </tr>\n",
              "    <tr>\n",
              "      <th>1</th>\n",
              "      <td>CUS-2142601169</td>\n",
              "      <td>29</td>\n",
              "      <td>2349.55</td>\n",
              "      <td>23</td>\n",
              "      <td>78.206106</td>\n",
              "      <td>1132.66</td>\n",
              "      <td>NSW</td>\n",
              "      <td>38</td>\n",
              "      <td>M</td>\n",
              "      <td>52289.711786</td>\n",
              "    </tr>\n",
              "    <tr>\n",
              "      <th>2</th>\n",
              "      <td>CUS-1614226872</td>\n",
              "      <td>24</td>\n",
              "      <td>892.09</td>\n",
              "      <td>22</td>\n",
              "      <td>74.465019</td>\n",
              "      <td>3618.50</td>\n",
              "      <td>QLD</td>\n",
              "      <td>40</td>\n",
              "      <td>F</td>\n",
              "      <td>46547.981786</td>\n",
              "    </tr>\n",
              "    <tr>\n",
              "      <th>3</th>\n",
              "      <td>CUS-2688605418</td>\n",
              "      <td>14</td>\n",
              "      <td>2320.30</td>\n",
              "      <td>25</td>\n",
              "      <td>159.304186</td>\n",
              "      <td>5616.63</td>\n",
              "      <td>NSW</td>\n",
              "      <td>20</td>\n",
              "      <td>M</td>\n",
              "      <td>60534.969643</td>\n",
              "    </tr>\n",
              "    <tr>\n",
              "      <th>4</th>\n",
              "      <td>CUS-4123612273</td>\n",
              "      <td>21</td>\n",
              "      <td>1068.04</td>\n",
              "      <td>32</td>\n",
              "      <td>166.508358</td>\n",
              "      <td>6162.45</td>\n",
              "      <td>VIC</td>\n",
              "      <td>43</td>\n",
              "      <td>F</td>\n",
              "      <td>55728.801429</td>\n",
              "    </tr>\n",
              "  </tbody>\n",
              "</table>\n",
              "</div>"
            ],
            "text/plain": [
              "      customer_id  avg_no_weekly_trans  max_amount  ...  age  gender  annual_salary\n",
              "0  CUS-2487424745                   48     1452.21  ...   26       F   52891.852500\n",
              "1  CUS-2142601169                   29     2349.55  ...   38       M   52289.711786\n",
              "2  CUS-1614226872                   24      892.09  ...   40       F   46547.981786\n",
              "3  CUS-2688605418                   14     2320.30  ...   20       M   60534.969643\n",
              "4  CUS-4123612273                   21     1068.04  ...   43       F   55728.801429\n",
              "\n",
              "[5 rows x 10 columns]"
            ]
          },
          "metadata": {
            "tags": []
          },
          "execution_count": 23
        }
      ]
    },
    {
      "cell_type": "code",
      "metadata": {
        "id": "KIdGnw1grwQW"
      },
      "source": [
        "df = df.dropna()"
      ],
      "execution_count": 43,
      "outputs": []
    },
    {
      "cell_type": "code",
      "metadata": {
        "id": "ZVl33EcXryW_"
      },
      "source": [
        "## moving on to test train split"
      ],
      "execution_count": 44,
      "outputs": []
    },
    {
      "cell_type": "code",
      "metadata": {
        "id": "tM8MJ_botlGt"
      },
      "source": [
        "X = df.drop([\"customer_id\",\"annual_salary\"], axis = 1)\n",
        "Y = df.annual_salary\n"
      ],
      "execution_count": 45,
      "outputs": []
    },
    {
      "cell_type": "code",
      "metadata": {
        "colab": {
          "base_uri": "https://localhost:8080/"
        },
        "id": "FI31KL_DvMVx",
        "outputId": "a56b9eac-43a8-4e24-9073-0c3b15ad3986"
      },
      "source": [
        "X_train, X_test, Y_train, Y_test = train_test_split(X, Y, test_size = 0.3, random_state = 42)\n",
        "\n",
        "print(X_train.shape)\n",
        "print(Y_train.shape)\n",
        "print(X_test.shape)\n",
        "print(Y_test.shape)"
      ],
      "execution_count": 46,
      "outputs": [
        {
          "output_type": "stream",
          "text": [
            "(39, 8)\n",
            "(39,)\n",
            "(18, 8)\n",
            "(18,)\n"
          ],
          "name": "stdout"
        }
      ]
    },
    {
      "cell_type": "code",
      "metadata": {
        "id": "JewmN2AWwcIp"
      },
      "source": [
        "ohe = OneHotEncoder(sparse = False)\n",
        "scaler = StandardScaler()\n",
        "column_transform = make_column_transformer((ohe, [\"state\", \"gender\"]), (scaler, [\"avg_no_weekly_trans\", \"max_amount\", \"no_large_trans\", \"avg_trans_amount\", \"median_balance\", \"age\"]))"
      ],
      "execution_count": 47,
      "outputs": []
    },
    {
      "cell_type": "code",
      "metadata": {
        "id": "kUPRvRcg532h"
      },
      "source": [
        "lm = LinearRegression()\n",
        "lm_pipeline = make_pipeline(column_transform, lm)"
      ],
      "execution_count": 48,
      "outputs": []
    },
    {
      "cell_type": "code",
      "metadata": {
        "id": "e6rV4-5l9sz3"
      },
      "source": [
        "\n",
        "# Fit pipeline and make predictions \n",
        "lm_pipeline.fit(X_train, Y_train)\n",
        "lm_pred = lm_pipeline.predict(X_test)"
      ],
      "execution_count": 49,
      "outputs": []
    },
    {
      "cell_type": "code",
      "metadata": {
        "colab": {
          "base_uri": "https://localhost:8080/"
        },
        "id": "KWZ6eqTj9uJZ",
        "outputId": "2ba46ca1-b6de-4b61-a018-86515b3639b1"
      },
      "source": [
        "# RMSE\n",
        "print(\"RMSE: \", round(np.sqrt(mean_squared_error(lm_pred, Y_test))))"
      ],
      "execution_count": 50,
      "outputs": [
        {
          "output_type": "stream",
          "text": [
            "RMSE:  20261\n"
          ],
          "name": "stdout"
        }
      ]
    },
    {
      "cell_type": "code",
      "metadata": {
        "id": "wd9jn5z7_lcc"
      },
      "source": [
        "tree = DecisionTreeRegressor()\n",
        "tree_pipeline = make_pipeline(column_transform, tree)"
      ],
      "execution_count": 51,
      "outputs": []
    },
    {
      "cell_type": "code",
      "metadata": {
        "id": "0xqr9tWbAaGB"
      },
      "source": [
        "tree_pipeline.fit(X_train, Y_train)\n",
        "tree_pred = tree_pipeline.predict(X_test)"
      ],
      "execution_count": 52,
      "outputs": []
    },
    {
      "cell_type": "code",
      "metadata": {
        "colab": {
          "base_uri": "https://localhost:8080/"
        },
        "id": "hC8epYq8AcoP",
        "outputId": "2c718bee-294a-40ab-c0b9-3f68e8942d58"
      },
      "source": [
        "print(\"RMSE: \", round(np.sqrt(mean_squared_error(tree_pred, Y_test))))"
      ],
      "execution_count": 53,
      "outputs": [
        {
          "output_type": "stream",
          "text": [
            "RMSE:  21350\n"
          ],
          "name": "stdout"
        }
      ]
    },
    {
      "cell_type": "code",
      "metadata": {
        "id": "Vq6U6XX_AeyZ"
      },
      "source": [
        ""
      ],
      "execution_count": null,
      "outputs": []
    }
  ]
}